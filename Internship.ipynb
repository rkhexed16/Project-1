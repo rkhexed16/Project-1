{
 "cells": [
  {
   "cell_type": "code",
   "execution_count": 5,
   "id": "5c8288a2",
   "metadata": {},
   "outputs": [],
   "source": [
    "examfee = {}"
   ]
  },
  {
   "cell_type": "code",
   "execution_count": 7,
   "id": "d6346096",
   "metadata": {},
   "outputs": [],
   "source": [
    "examfee = {'Indian':400,'Foreign':100,'NRI':600,'SAARC':600}"
   ]
  },
  {
   "cell_type": "code",
   "execution_count": 10,
   "id": "e1b9a9cc",
   "metadata": {},
   "outputs": [],
   "source": [
    "appfeeindian = {'UG':200,'UG-Diploma':300,'PG':500}"
   ]
  },
  {
   "cell_type": "code",
   "execution_count": 11,
   "id": "9cf1dda6",
   "metadata": {},
   "outputs": [],
   "source": [
    "appfeeforeign = {'UG':400,'UG-Diploma':400,'PG':700}"
   ]
  },
  {
   "cell_type": "code",
   "execution_count": 12,
   "id": "4eb8d04b",
   "metadata": {},
   "outputs": [],
   "source": [
    "#to calculate foreign UG"
   ]
  },
  {
   "cell_type": "code",
   "execution_count": 13,
   "id": "d307f0f4",
   "metadata": {},
   "outputs": [
    {
     "data": {
      "text/plain": [
       "500"
      ]
     },
     "execution_count": 13,
     "metadata": {},
     "output_type": "execute_result"
    }
   ],
   "source": [
    "examfee['Foreign']+appfeeforeign['UG']"
   ]
  },
  {
   "cell_type": "code",
   "execution_count": null,
   "id": "cb2154c8",
   "metadata": {},
   "outputs": [],
   "source": []
  }
 ],
 "metadata": {
  "kernelspec": {
   "display_name": "Python 3 (ipykernel)",
   "language": "python",
   "name": "python3"
  },
  "language_info": {
   "codemirror_mode": {
    "name": "ipython",
    "version": 3
   },
   "file_extension": ".py",
   "mimetype": "text/x-python",
   "name": "python",
   "nbconvert_exporter": "python",
   "pygments_lexer": "ipython3",
   "version": "3.9.12"
  }
 },
 "nbformat": 4,
 "nbformat_minor": 5
}
