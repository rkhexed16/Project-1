{
 "cells": [
  {
   "cell_type": "code",
   "execution_count": 1,
   "id": "b3eec1fc",
   "metadata": {},
   "outputs": [],
   "source": [
    "import json"
   ]
  },
  {
   "cell_type": "code",
   "execution_count": 2,
   "id": "0e8706b0",
   "metadata": {},
   "outputs": [],
   "source": [
    "f = open('data.json')"
   ]
  },
  {
   "cell_type": "code",
   "execution_count": 3,
   "id": "8d9c9811",
   "metadata": {},
   "outputs": [],
   "source": [
    "data = json.load(f)"
   ]
  },
  {
   "cell_type": "code",
   "execution_count": 4,
   "id": "50b24308",
   "metadata": {},
   "outputs": [
    {
     "data": {
      "text/plain": [
       "{'Exam Fee': {'INDIAN': {'ALL_COURSES': {'ALL_LEVEL': {'amount': 400}}},\n",
       "  'FOREIGN': {'ALL_COURSES': {'ALL_LEVEL': {'amount': 100}}},\n",
       "  'NRI': {'ALL_COURSES': {'ALL_LEVEL': {'amount': 600}}},\n",
       "  'SAARC': {'ALL_COURSES': {'ALL_LEVEL': {'amount': 600}}}},\n",
       " 'Application Fee': {'INDIAN': {'ALL_COURSES': {'UG': {'amount': 200},\n",
       "    'UG-DIPLOMA': {'amount': 300},\n",
       "    'PG': {'amount': 500}}},\n",
       "  'FOREIGN': {'ALL_COURSES': {'UG': {'amount': 400},\n",
       "    'UG-DIPLOMA': {'amount': 400},\n",
       "    'PG': {'amount': 700}}}}}"
      ]
     },
     "execution_count": 4,
     "metadata": {},
     "output_type": "execute_result"
    }
   ],
   "source": [
    "data"
   ]
  },
  {
   "cell_type": "code",
   "execution_count": 5,
   "id": "c2876fa8",
   "metadata": {},
   "outputs": [
    {
     "data": {
      "text/plain": [
       "{'ALL_COURSES': {'ALL_LEVEL': {'amount': 400}}}"
      ]
     },
     "execution_count": 5,
     "metadata": {},
     "output_type": "execute_result"
    }
   ],
   "source": [
    "data['Exam Fee']['INDIAN']"
   ]
  },
  {
   "cell_type": "code",
   "execution_count": 8,
   "id": "9a5248b1",
   "metadata": {},
   "outputs": [
    {
     "data": {
      "text/plain": [
       "500"
      ]
     },
     "execution_count": 8,
     "metadata": {},
     "output_type": "execute_result"
    }
   ],
   "source": [
    "data['Exam Fee']['FOREIGN']['ALL_COURSES']['ALL_LEVEL']['amount'] + data['Application Fee']['FOREIGN']['ALL_COURSES']['UG']['amount']"
   ]
  },
  {
   "cell_type": "code",
   "execution_count": null,
   "id": "50fcb391",
   "metadata": {},
   "outputs": [],
   "source": []
  }
 ],
 "metadata": {
  "kernelspec": {
   "display_name": "Python 3 (ipykernel)",
   "language": "python",
   "name": "python3"
  },
  "language_info": {
   "codemirror_mode": {
    "name": "ipython",
    "version": 3
   },
   "file_extension": ".py",
   "mimetype": "text/x-python",
   "name": "python",
   "nbconvert_exporter": "python",
   "pygments_lexer": "ipython3",
   "version": "3.9.12"
  }
 },
 "nbformat": 4,
 "nbformat_minor": 5
}
